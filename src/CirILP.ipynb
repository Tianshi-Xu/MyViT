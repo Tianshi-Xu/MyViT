{
 "cells": [
  {
   "cell_type": "code",
   "execution_count": 4,
   "metadata": {},
   "outputs": [],
   "source": [
    "import numpy as np\n",
    "from pulp import *\n",
    "import pulp\n",
    "from hess.myhessian import hessian # Hessian computation\n",
    "from mbv2 import c10_mobilenetv2,c100_mobilenetv2,tiny_mobilenetv2\n",
    "from timm.data import create_dataset, create_loader"
   ]
  },
  {
   "cell_type": "code",
   "execution_count": 3,
   "metadata": {},
   "outputs": [],
   "source": [
    "class args():\n",
    "    def __init__(self):\n",
    "        pass\n",
    "args = args\n",
    "args.latency_limit = 0.5 # same definition as above\n",
    "dataset = \"cifar10\"\n",
    "if dataset == \"cifar10\":\n",
    "    args.dataset = \"torch/cifar10\"\n",
    "    args.data_dir = \"/home/xts/code/dataset/cifar10/\"\n",
    "    args.val_split = \"validation\"\n",
    "elif dataset == \"cifar100\":\n",
    "    args.dataset = \"torch/cifar100\"\n",
    "    args.data_dir = \"/home/xts/code/dataset/cifar100/\"\n",
    "    args.val_split = \"validation\"\n",
    "elif dataset == \"tiny\":\n",
    "    args.dataset = \"torch/image_folder\"\n",
    "    args.data_dir = \"/home/xts/code/dataset/tiny-imagenet-200\"\n",
    "    args.val_split = \"valid\"\n",
    "args.batch_size = 128"
   ]
  },
  {
   "cell_type": "code",
   "execution_count": null,
   "metadata": {},
   "outputs": [],
   "source": [
    "dataset_eval = create_dataset(\n",
    "        args.dataset, root=args.data_dir, split=args.val_split, is_training=False, batch_size=args.batch_size)\n",
    "loader_eval = create_loader(\n",
    "        dataset_eval,\n",
    "        input_size=data_config['input_size'],\n",
    "        batch_size=args.validation_batch_size_multiplier * args.batch_size,\n",
    "        is_training=False,\n",
    "        use_prefetcher=args.prefetcher,\n",
    "        interpolation=data_config['interpolation'],\n",
    "        mean=data_config['mean'],\n",
    "        std=data_config['std'],\n",
    "        num_workers=args.workers,\n",
    "        distributed=args.distributed,\n",
    "        crop_pct=data_config['crop_pct'],\n",
    "        pin_memory=args.pin_mem,\n",
    ")"
   ]
  }
 ],
 "metadata": {
  "kernelspec": {
   "display_name": "torch",
   "language": "python",
   "name": "python3"
  },
  "language_info": {
   "codemirror_mode": {
    "name": "ipython",
    "version": 3
   },
   "file_extension": ".py",
   "mimetype": "text/x-python",
   "name": "python",
   "nbconvert_exporter": "python",
   "pygments_lexer": "ipython3",
   "version": "3.8.18"
  }
 },
 "nbformat": 4,
 "nbformat_minor": 2
}
